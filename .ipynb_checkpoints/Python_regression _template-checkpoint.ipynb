{
 "cells": [
  {
   "cell_type": "code",
   "execution_count": 1,
   "metadata": {},
   "outputs": [],
   "source": [
    "#import numpy as np\n",
    "#import matplotlib.pyplot as plt\n",
    "#import pandas as pd"
   ]
  },
  {
   "cell_type": "code",
   "execution_count": 2,
   "metadata": {},
   "outputs": [],
   "source": [
    "# importing the dataset\n",
    "#dataset = pd.read_csv('Position_Salaries.csv')"
   ]
  },
  {
   "cell_type": "code",
   "execution_count": 3,
   "metadata": {},
   "outputs": [],
   "source": [
    "## iloc- interger location to spilit dependant and indep. variable \n",
    "#X = dataset.iloc[:,1:2].values\n",
    "#Y = dataset.iloc[:,2].values"
   ]
  },
  {
   "cell_type": "code",
   "execution_count": 4,
   "metadata": {},
   "outputs": [],
   "source": [
    "##spliting dataser into training and testing set\n",
    "## not required for small number of dataset\n",
    "##from sklearn.model_selection import train_test_split\n",
    "##X_train,X_test,Y_train,Y_test = train_test_split(X,Y, test_size =0.2, random_state = 0)"
   ]
  },
  {
   "cell_type": "code",
   "execution_count": 8,
   "metadata": {},
   "outputs": [],
   "source": [
    "##Fitting Regression model to the dataset\n",
    "# Import a class from certain library and generate a regressor object.\n",
    "# fit this regressor object on to the dataset using fit method"
   ]
  },
  {
   "cell_type": "code",
   "execution_count": null,
   "metadata": {},
   "outputs": [],
   "source": [
    "##predicting a new result with regression\n",
    "#y_pred =regressor.predict(6.5)"
   ]
  },
  {
   "cell_type": "code",
   "execution_count": null,
   "metadata": {},
   "outputs": [],
   "source": [
    "##visualing the Regression results\n",
    "#plt.scatter(X,Y, color ='red')\n",
    "#plt.plot(X, regressor.predict(X), color= 'blue')  \n",
    "#plt.title('Truth or Bluff(Regression Model)')\n",
    "#plt.xlabel('Postion Level')\n",
    "#plt.ylabel('Salary')\n",
    "#plt.show()"
   ]
  },
  {
   "cell_type": "code",
   "execution_count": null,
   "metadata": {},
   "outputs": [],
   "source": [
    "##visualing the Regression results for higher resoluton and smoother curve\n",
    "#X_grid = np.arange(min(X),max(X),0.1)# it gives a vector so convert it to matrix using reshape\n",
    "#X_grid = X_grid.reshape(len(X_grid),1)\n",
    "#plt.scatter(X,Y, color ='red')\n",
    "#plt.plot(X_grid, regressor.predict(X_grid), color= 'blue')  \n",
    "#plt.title('Truth or Bluff(Regression Model)')\n",
    "#plt.xlabel('Postion Level')\n",
    "#plt.ylabel('Salary')\n",
    "#plt.show()"
   ]
  }
 ],
 "metadata": {
  "kernelspec": {
   "display_name": "Python 3",
   "language": "python",
   "name": "python3"
  },
  "language_info": {
   "codemirror_mode": {
    "name": "ipython",
    "version": 3
   },
   "file_extension": ".py",
   "mimetype": "text/x-python",
   "name": "python",
   "nbconvert_exporter": "python",
   "pygments_lexer": "ipython3",
   "version": "3.6.2"
  }
 },
 "nbformat": 4,
 "nbformat_minor": 2
}
